{
 "cells": [
  {
   "cell_type": "markdown",
   "metadata": {},
   "source": [
    "# Interactive notebook for using `helmpy` mean field models for parameter inference from data\n",
    "\n",
    "The mean field or 'deterministic' models which can be run with the `helmpy.run_meanfield` method can be used to provide an efficient way to perform approximate posterior parameter inference with respect to some dataset(s), but before we illustrate how to do this, it will be informative to describe the theoretical background necessary to perform this inference."
   ]
  },
  {
   "cell_type": "markdown",
   "metadata": {},
   "source": [
    "## 1. Theoretical background\n",
    "\n",
    "Here we outline the basic theoretical background for performing Bayesian parameter inference using mean field helminth models under the assumption that the system close to a state of endemic equilibrium. For helminth transmission parameter inference far out of equilibrium, or close to the unstable breakpoint in the transmission phase plane (for reference: [https://www.sciencedirect.com/science/article/pii/S002251931930445X]), it is not recommended that mean field models are used for many of the reasons outlined in [https://www.medrxiv.org/content/10.1101/2019.12.17.19013490v1] - in such instances, the stochastic inference method is recommended, though it is more computationally expensive. Bear in mind, also, that inference with the mean field model will typically underestimate the variance of the posterior over parameters in comparison to inference with the stochastic model and so it should be used when population sizes are larger so that this additional variance is minimised.\n",
    "\n",
    "The formalism we will outline here assumes that the diagnostic data are either Kato-Katz counts (for _Ascaris lumbricoides, Trichuris trichiura, Schistosoma mansoni_ and hookworm diagnostic testing) or urine filtration counts (for _Schistosoma haematobium_ diagnostic testing). As ever in any canonical Bayesian problem, specification of the likelihood function ${\\cal L}$ is not the end of the story. To infer a joint posterior distribution ${\\cal P}$ given a dataset ${\\cal D}$ over the collection of transmission and diagnostic parameters $\\{ \\Lambda (a,t),k,z,\\lambda_{\\rm d},k_{\\rm d}\\}$, Bayes' rule here reads \n",
    "\n",
    "$${\\cal P}[ \\Lambda (a,t),k,z,k_{\\rm d} \\vert {\\cal D},\\lambda_{\\rm d}] = \\frac{1}{{\\cal E}} \\pi [\\Lambda (a,t)] \\, \\pi (k) \\, \\pi (z) \\, \\pi (k_{\\rm d}) \\,{\\cal L}[{\\cal D}\\vert \\Lambda (a,t),k,z,k_{\\rm d},\\lambda_{\\rm d}] \\,,$$\n",
    "\n",
    "where ${\\cal E}$ is a normalisation constant, we have assumed that $\\lambda_{\\rm d}$ is known prior to the inference and $\\pi [\\Lambda (a,t)]$, $\\pi (k)$, $\\pi (z)$ and $\\pi (k_{\\rm d})$ are the prior distributions over $\\Lambda (a,t)$, $k$, $z$ and $k_{\\rm d}$ which are the age and time-dependent force of infection, worm aggregation, density dependent fecundity factor and measured diagnostic aggregation parameter, respectively (all assumed to be independent of each other _a priori_). Kato-katz and urine filtration counts typically follow a distribution which appears to be negative binomial in shape. By computing the mean diagnostically-detected egg count $\\hat{{\\sf e}}_{\\rm d}=\\lambda_{\\rm d}\\hat{{\\sf e}}$ from the transmission parameters $\\{ M (a,t),k,z,\\lambda_{\\rm d},k_{\\rm d}\\}$, the likelihood distribution which will be used for the inference of these parameters is therefore likely to be well-approximated by\n",
    "\n",
    "$${\\cal L}[{\\cal D}\\vert M(a,t),k,z,\\lambda_{\\rm d},k_{\\rm d} ] = \\prod_{\\forall {\\sf e}_i\\in {\\cal D}}{\\rm NB}\\big\\{ {\\sf e}_i; \\lambda_{\\rm d}\\hat{{\\sf e}}[M(a,t),k,z],k_{\\rm d}\\big\\} \\,,$$\n",
    "\n",
    "where $k_{\\rm d}$ accounts for some diagnostic variance; $\\lambda_{\\rm d}$ accounts for the number diagnostically-detected eggs per female worm; and $M(a,t)$ is the age and time-dependent total mean worm burden. Note that if only prevalence data is available, ${\\cal D}=\\{ N_{\\rm inf}/N \\}$ and the likelihood is a binomial distribution with probability derived from the negative binomial above\n",
    "\n",
    "$${\\cal L}_{\\rm prev}[N_{\\rm inf}/N\\vert  M(a,t),k,z,\\lambda_{\\rm d},k_{\\rm d} ] = {\\rm Bin}\\big\\{ N_{\\rm inf}; N,{\\sf P}_{\\rm d}[ M(a,t),k,z,\\lambda_{\\rm d},k_{\\rm d} ]\\big\\}$$\n",
    "\n",
    "$${\\sf P}_{\\rm d}[ M(a,t),k,z,\\lambda_{\\rm d},k_{\\rm d}]=1-\\bigg\\{ 1 + \\frac{\\lambda_{\\rm d}\\hat{{\\sf e}}[M(a,t),k,z]}{k_{\\rm d}}\\bigg\\}^{-k_{\\rm d}}\\,.$$\n",
    "\n",
    "If prevalence is used, due to the reduced amount of information, it is typically required that $k_{\\rm d}$ is also assumed to be known _a priori_. See, e.g., Anderson & May, 1991 or [https://www.sciencedirect.com/science/article/pii/S002251931930445X] for the motivations behind the calculation of the proportionality factor for the first moment of the egg count distribution $\\hat{{\\sf e}}$, which, for example, in the case of STH (fully polygamous male worms) is analytic (it is not in the case of monogamous schistosomes)\n",
    "\n",
    "$$\\hat{{\\sf e}}_{\\rm STH}[M(a,t),k,t] = \\phi [M(a,t);k,z]\\, f [M(a,t);k,z] M(a,t)$$\n",
    "\n",
    "$$f[M(a,t);k,z] \\equiv \\left[ 1+(1-z)\\frac{M(a,t)}{k}\\right]^{-(k+1)} $$\n",
    "\n",
    "$$\\phi [M(a,t);k,z] \\equiv 1-\\left[ \\frac{1+(1-z)M(a,t)/k}{1+(2-z)M(a,t)/(2k)}\\right]^{k+1} \\,.$$\n",
    "\n",
    "The attentive reader will notice that the arguments of the equation directly above do not exactly match the likelihood required to complete Bayes' rule. In fact, one must consider the transmission dynamics to map between values of $\\Lambda (a,t)$ and $M(a,t)$. Note: from the form of the equation above, one might be tempted to simply infer $M(a,t)$ directly. This is, however, problematic for ensuring that samples of the system are at equilibrium for a typical set of baseline data.\n",
    "\n",
    "From Anderson & May, 1991, the mean field (or 'deterministic') transmission dynamics of the helminth infections considered here (STH and schistosomes) with age structure can be described by the following system \n",
    "\n",
    "$$\\frac{\\partial M}{\\partial t} + \\frac{\\partial M}{\\partial a} = \\Lambda (a,t) - \\mu_1 M(a,t) \\,.$$\n",
    "\n",
    "This equation may be converted to a differential equation with respect to time only, while discretising the mean worm burden into age bins $\\{ a_i\\}$, by integrating over $a$ using a survival rate kernel $S(a)$ like so\n",
    "\n",
    "$$M_i(t) \\equiv M(a_i,t) = \\frac{\\int^{a_{i+1/2}}_{a_{i-1/2}}{\\rm d}a \\, M(a,t) S(a)}{\\int^{\\infty}_{0}{\\rm d}a S(a)} \\,.$$\n",
    "\n",
    "Choosing the $S(a) = e^{-\\mu a}$ and assuming an age-constant $\\Lambda (a_i,t)$ within the bin (as we have assumed before in the fitting procedure), one may obtain the following first-order differential equation corresponding to the dynamics in the $i$-th age bin\n",
    "\n",
    "$$\\frac{{\\rm d} M_i}{{\\rm d} t} = \\Lambda (a_i,t) - (\\mu + \\mu_1)M_i(t) \\,.$$\n",
    "\n",
    "In order to obtain this equation above, we have assumed that the boundary flux between age bins must vanish\n",
    "\n",
    "$$\\left.\\frac{\\partial M_i}{\\partial a} \\right\\vert_{a_{i+1/2}}=0 \\,,$$\n",
    "\n",
    "due to an approximated instananeous change in the worm burden for the individual (as a consequence of individuals changing force of infection $\\Lambda (a_i,t) \\rightarrow \\Lambda (a_{i+1},t)$) - note that this also sets the other boundary flux\n",
    "\n",
    "$$\\left.\\frac{\\partial M_i}{\\partial a} \\right\\vert_{a_{i-1/2}}=\\left.\\frac{\\partial M_{i-1}}{\\partial a} \\right\\vert_{a_{i-1/2}}=\\left.\\frac{\\partial M_{(i-1)}}{\\partial a} \\right\\vert_{a_{(i-1)+1/2}}=0 \\,.$$\n",
    "\n",
    "As a side note: in a fully stochastic individual-based model, the change in the expected worm burden will occur over a timescale of $1/\\mu_1$, so ensuring that the age bin widths are wider than this timescale is a necessity for this approximation remain accurate. Note also that the birth rate into the first age bin should be set to $\\mu$ to match the simulation.\n",
    "\n",
    "The implicit solution to the equation for ${\\rm d} M_i/{\\rm d} t$ above is\n",
    "\n",
    "$$M_i(t) = M_i(t_0)e^{-(\\mu + \\mu_1) (t-t_0)} + \\int^{t}_{t_0} {\\rm d}t' \\Lambda (a_i,t')e^{-(\\mu + \\mu_1) (t-t')}\\,,$$\n",
    "\n",
    "this solution can be inserted into ${\\cal L}[{\\cal D}\\vert  M_i(t),k,z,\\lambda_{\\rm d},k_{\\rm d} ]$ to perform inference with ${\\cal L}[{\\cal D}\\vert  \\Lambda (a_i,t),k,z,\\lambda_{\\rm d},k_{\\rm d}]$. Note also that given the rapid equilibration of the infectious reservoir ${\\rm d}\\Lambda (a_i,t) /{\\rm d}t\\rightarrow 0$, we may also identify (see Anderson & May, 1991 again...)\n",
    "\n",
    "$$\\Lambda (a_i,t) = (\\mu + \\mu_1)R_{0,i}\\sum_{j=1}^{N_a}\\frac{N_j}{N_{\\rm tot}} \\, \\hat{{\\sf e}}[M_j(t),k,z] \\,,$$\n",
    "\n",
    "where we have included a host death rate $\\mu$, the number of people $N_i$ within an age group (and $N_{\\rm tot}$ in total) and defined an age-dependent coefficient which contributes to the basic reproduction number $R_{0,i}$. By inserting $\\Lambda (a_i,t)$ into the equation for ${\\rm d} M_i/{\\rm d} t$ above, the nonlinear dynamical system of equations that this generates is \n",
    "\n",
    "$$\\frac{{\\rm d} M_{i}}{{\\rm d} t} = (\\mu +\\mu_1) R_{0,i}\\sum_{j=1}^{N_a}\\left\\{ \\frac{N_j}{N_{\\rm tot}}\\, \\hat{{\\sf e}}[M_j(t),k,z] \\right\\} - (\\mu +\\mu_1)M_i(t) \\,,$$\n",
    "\n",
    "where value of the overall $R_0$ may be obtained through the relation\n",
    "\n",
    "$$R_{0}=\\frac{1}{N_{\\rm tot}}\\sum^{N_a}_{i=1} N_iR_{0,i} \\,.$$\n",
    "\n",
    "Note also that, at equilibrium $M(a_i,t)\\rightarrow M(a_i)\\,\\, \\forall i$, the value of $R_0$ is constrained to\n",
    "\n",
    "$$R_{0} = \\frac{\\sum_{i=1}^{N_a} N_iM_i}{\\sum_{j=1}^{N_a} N_j \\,\\hat{{\\sf e}}(M_j,k,z)} \\,.$$\n",
    "\n",
    "To include migration between clusters in the inference, $\\Lambda (a_i,t)$ in the ${\\rm d} M_i/{\\rm d} t$ equation above would be modified by the expectations of compound Poisson processes modelling the net ingoing and outgoing eggs/larvae (see: [https://www.sciencedirect.com/science/article/pii/S002251931930445X]). We will not handle this case here though."
   ]
  },
  {
   "cell_type": "markdown",
   "metadata": {},
   "source": [
    "## 2. Setup with mock data\n",
    "\n",
    "First we must import `helmpy` and the other modules necessary for the inference..."
   ]
  },
  {
   "cell_type": "code",
   "execution_count": null,
   "metadata": {},
   "outputs": [],
   "source": [
    "import sys\n",
    "path_to_helmpy = '/Users/Rob/work/helmpy' # Give your path to helmpy here\n",
    "sys.path.append(path_to_helmpy + '/source/') \n",
    "from helmpy import helmpy\n",
    "\n",
    "# These modules are not necessary to run helmpy alone but will be useful for our demonstrations\n",
    "\n",
    "# LEAVE THESE IMPORTS COMMENTED AS THEY ARE FOR PRODUCING LaTeX-STYLE FIGURES ONLY\n",
    "#import matplotlib as mpl\n",
    "#mpl.use('Agg')\n",
    "#mpl.rc('font',family='CMU Serif')\n",
    "#mpl.rcParams['xtick.labelsize'] = 15\n",
    "#mpl.rcParams['ytick.labelsize'] = 15\n",
    "#mpl.rcParams['axes.labelsize'] = 20\n",
    "#from matplotlib import rc\n",
    "#rc('text',usetex=True)\n",
    "#rc('text.latex',preamble=r'\\usepackage{mathrsfs}')\n",
    "#rc('text.latex',preamble=r'\\usepackage{sansmath}')\n",
    "# LEAVE THESE IMPORTS COMMENTED AS THEY ARE FOR PRODUCING LaTeX-STYLE FIGURES ONLY\n",
    "\n",
    "import numpy as np\n",
    "import matplotlib.pyplot as plt\n",
    "import scipy.special as spec\n",
    "import time"
   ]
  },
  {
   "cell_type": "markdown",
   "metadata": {},
   "source": [
    "...and make up some mock, e.g., Kato-Katz data to use..."
   ]
  },
  {
   "cell_type": "code",
   "execution_count": null,
   "metadata": {},
   "outputs": [],
   "source": [
    "meanegg = 30.0\n",
    "varegg = 8000.0\n",
    "kksamps = np.random.negative_binomial(meanegg**2.0/np.abs(varegg-meanegg),meanegg/varegg,size=250)"
   ]
  },
  {
   "cell_type": "code",
   "execution_count": null,
   "metadata": {},
   "outputs": [],
   "source": []
  }
 ],
 "metadata": {
  "kernelspec": {
   "display_name": "Python 3",
   "language": "python",
   "name": "python3"
  },
  "language_info": {
   "codemirror_mode": {
    "name": "ipython",
    "version": 3
   },
   "file_extension": ".py",
   "mimetype": "text/x-python",
   "name": "python",
   "nbconvert_exporter": "python",
   "pygments_lexer": "ipython3",
   "version": "3.7.7"
  }
 },
 "nbformat": 4,
 "nbformat_minor": 2
}
